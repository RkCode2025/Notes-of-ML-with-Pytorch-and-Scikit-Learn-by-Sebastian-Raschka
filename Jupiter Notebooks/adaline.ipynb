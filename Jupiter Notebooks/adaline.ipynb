{
 "cells": [
  {
   "cell_type": "markdown",
   "id": "d8c1179d",
   "metadata": {},
   "source": [
    "ADALINE IMPLEMENTATION IN PYTHON"
   ]
  },
  {
   "cell_type": "code",
   "execution_count": 1,
   "id": "c5aa7cc3",
   "metadata": {},
   "outputs": [],
   "source": [
    "import numpy as np"
   ]
  },
  {
   "cell_type": "code",
   "execution_count": 2,
   "id": "e9bc0d63",
   "metadata": {},
   "outputs": [],
   "source": [
    "class adaline:\n",
    "    def __init__(self, eta=0.01, epochs=100, random_state=42):\n",
    "        self.eta = eta #learning rate\n",
    "        self.epochs = epochs #number of training iterations\n",
    "        self.random_state = random_state #to stabalize the model\n",
    "\n",
    "    def fit(self, X,y):\n",
    "        \n",
    "        rgen = np.random.RandomState(self.random_state) \n",
    "        self.w_ = rgen.normal(loc=0.0, scale=0.01,\n",
    "                              size=X.shape[1])\n",
    "        self.b_ = np.float64(0.)\n",
    "        self.losses_ = []\n",
    "\n",
    "        for i in range(self.epochs):\n",
    "            net_input = self.net_input(X)\n",
    "            output = self.activation(net_input)\n",
    "            errors = (y - output)\n",
    "\n",
    "            self.w_ += self.eta *2.0* X.T.dot(errors) /X.shape[0]\n",
    "            self.b_ += self.eta *2.0* errors.mean()\n",
    "\n",
    "            loss = (errors **2).mean()\n",
    "            self.losses_.append(loss)\n",
    "\n",
    "        return self\n",
    "    def net_input(self, X):\n",
    "        \"\"\"Calculate net input\"\"\"\n",
    "        return np.dot(X, self.w_) + self.b_\n",
    "    \n",
    "    def activation(self, X):\n",
    "       \"Compute linear activation\"\"\"\n",
    "       return X\n",
    "    \n",
    "    def predict(self, X):\n",
    "         return np.where(self.activation(self.net_input(X))\n",
    "                        >= 0.5, 1, 0)\n",
    "        "
   ]
  },
  {
   "cell_type": "code",
   "execution_count": 35,
   "id": "148779ea",
   "metadata": {},
   "outputs": [],
   "source": [
    "#Training Dataset\n",
    "X_train = np.array([\n",
    "    [2.0, 3.0],\n",
    "    [1.0, 5.0],\n",
    "    [2.5, 1.0],\n",
    "    [0.5, 0.5],\n",
    "    [3.0, 2.0]\n",
    "])\n",
    "\n",
    "# Labels: 0 or 1\n",
    "y_train = np.array([1, 1, 0, 0, 1])"
   ]
  },
  {
   "cell_type": "code",
   "execution_count": 4,
   "id": "ae668e2d",
   "metadata": {},
   "outputs": [
    {
     "data": {
      "text/plain": [
       "<__main__.adaline at 0x2081ef0e440>"
      ]
     },
     "execution_count": 4,
     "metadata": {},
     "output_type": "execute_result"
    }
   ],
   "source": [
    "ada = adaline(eta=0.01, epochs=100, random_state=1)\n",
    "ada.fit(X_train, y_train)"
   ]
  },
  {
   "cell_type": "code",
   "execution_count": 5,
   "id": "a2b5e212",
   "metadata": {},
   "outputs": [],
   "source": [
    "# Test data (unseen points)\n",
    "X_test = np.array([\n",
    "    [2.2, 2.8],   # close to class 1\n",
    "    [1.2, 4.8],   # close to class 1\n",
    "    [2.8, 0.8],   # close to class 0\n",
    "    [0.3, 0.7],   # close to class 0\n",
    "    [3.2, 2.2]    # close to class 1\n",
    "])\n",
    "\n",
    "# Expected labels (for evaluation)\n",
    "y_test = np.array([1, 1, 0, 0, 1])\n"
   ]
  },
  {
   "cell_type": "code",
   "execution_count": 6,
   "id": "79366090",
   "metadata": {},
   "outputs": [
    {
     "name": "stdout",
     "output_type": "stream",
     "text": [
      "Predictions: [1 1 0 0 1]\n",
      "True labels: [1 1 0 0 1]\n",
      "Test accuracy: 1.00\n"
     ]
    }
   ],
   "source": [
    "# Predictions on test data\n",
    "y_pred_test = ada.predict(X_test)\n",
    "\n",
    "print(\"Predictions:\", y_pred_test)\n",
    "print(\"True labels:\", y_test)\n",
    "\n",
    "# Accuracy\n",
    "acc = (y_pred_test == y_test).mean()\n",
    "print(f\"Test accuracy: {acc:.2f}\")\n"
   ]
  },
  {
   "cell_type": "code",
   "execution_count": 7,
   "id": "5a42369f",
   "metadata": {},
   "outputs": [],
   "source": [
    "#USING STANDARDIZATION\n",
    "X_train_std = np.copy(X_train)\n",
    "X_train_std[:, 0] = (X_train[:,0] - X_train[:, 0].mean()) / X_train[:,0].std()\n",
    "X_train_std[:,1] = (X_train[:,1] - X_train[:,1].mean()) / X_train[:,1].std()\n",
    "X_test_std = np.copy(X_test)\n",
    "X_test_std[:, 0] = (X_test[:,0] - X_test[:, 0].mean()) / X_test[:,0].std()\n",
    "X_test_std[:,1] = (X_test[:,1] - X_test[:,1].mean()) / X_test[:,1].std()\n"
   ]
  },
  {
   "cell_type": "code",
   "execution_count": 8,
   "id": "4c018155",
   "metadata": {},
   "outputs": [
    {
     "data": {
      "text/plain": [
       "<__main__.adaline at 0x2081ef0e440>"
      ]
     },
     "execution_count": 8,
     "metadata": {},
     "output_type": "execute_result"
    }
   ],
   "source": [
    "ada.fit(X_train_std, y_train)"
   ]
  },
  {
   "cell_type": "code",
   "execution_count": 9,
   "id": "ad390638",
   "metadata": {},
   "outputs": [
    {
     "name": "stdout",
     "output_type": "stream",
     "text": [
      "Test accuracy: 1.00\n"
     ]
    }
   ],
   "source": [
    "pred = ada.predict(X_test_std)\n",
    "acc = (pred == y_test).mean()\n",
    "print(f\"Test accuracy: {acc:.2f}\")"
   ]
  },
  {
   "cell_type": "code",
   "execution_count": 37,
   "id": "e162fb79",
   "metadata": {},
   "outputs": [],
   "source": [
    "# ADAptive LInear NEuron (Adaline) with Stochastic Gradient Descent (SGD)\n",
    "\n",
    "class AdalineSGD:\n",
    "\n",
    "    def __init__(self, eta=0.01, epochs=100, shuffle=True, random_state=1):\n",
    "        \"\"\"\n",
    "        Parameters:\n",
    "        -----------\n",
    "        eta : float\n",
    "            Learning rate (controls how much weights are updated each step)\n",
    "        epochs : int\n",
    "            Number of passes (iterations) over the training dataset\n",
    "        shuffle : bool\n",
    "            Whether to shuffle training data every epoch (prevents cycles in learning)\n",
    "        random_state : int\n",
    "            Random seed for reproducibility of results\n",
    "        \"\"\"\n",
    "        self.eta = eta\n",
    "        self.epochs = epochs\n",
    "        self.shuffle = shuffle\n",
    "        self.random_state = random_state\n",
    "        self.w_initialized = False   # To check if weights are initialized\n",
    "\n",
    "    def fit(self, X, y):\n",
    "        \"\"\"\n",
    "        Fit training data using stochastic gradient descent.\n",
    "        \n",
    "        Parameters:\n",
    "        -----------\n",
    "        X : array-like, shape = [n_samples, n_features]\n",
    "            Training vectors\n",
    "        y : array-like, shape = [n_samples]\n",
    "            Target values\n",
    "        \n",
    "        Returns:\n",
    "        --------\n",
    "        self : object\n",
    "        \"\"\"\n",
    "\n",
    "        # Initialize weights with random small numbers\n",
    "        self._initialize_weights(X.shape[1])\n",
    "\n",
    "        self.losses_ = []  # Store average loss per epoch\n",
    "\n",
    "        # Loop over training epochs\n",
    "        for i in range(self.epochs):\n",
    "            \n",
    "            # Shuffle training data if enabled\n",
    "            if self.shuffle:\n",
    "                 X, y = self._shuffle(X, y)\n",
    "\n",
    "            losses = []  # Track losses for each sample in this epoch\n",
    "            \n",
    "            # Loop through each training sample\n",
    "            for xi, target in zip(X, y):\n",
    "                losses.append(self._update_weights(xi, target))  # Update weights for each sample\n",
    "\n",
    "            # Compute average loss for the epoch\n",
    "            avg_loss = np.mean(losses)\n",
    "            self.losses_.append(avg_loss)\n",
    "\n",
    "        return self\n",
    "\n",
    "    def partial_fit(self, X, y):\n",
    "        \"\"\"\n",
    "        Update model without reinitializing weights.\n",
    "        Useful for online learning with streaming data.\n",
    "        \"\"\"\n",
    "\n",
    "        # Initialize weights if not done already\n",
    "        if not self.w_initialized:\n",
    "            self._initialize_weights(X.shape[1])\n",
    "\n",
    "        # If multiple samples, iterate through them\n",
    "        if y.ravel().shape[0] > 1:\n",
    "            for xi, target in zip(X, y):\n",
    "                self._update_weights(xi, target)\n",
    "        else:  # If only one sample\n",
    "            self._update_weights(X, y)\n",
    "\n",
    "        return self\n",
    "\n",
    "    def _shuffle(self, X, y):\n",
    "        \"\"\"Shuffle training data to avoid cycles during learning\"\"\"\n",
    "        r = self.rgen.permutation(len(y))  # Random permutation of indices\n",
    "        return X[r], y[r]\n",
    "    \n",
    "    def activation(self, X):\n",
    "        return X\n",
    "    \n",
    "    def _initialize_weights(self, m):\n",
    "        \"\"\"Initialize weights with small random numbers\"\"\"\n",
    "        self.rgen = np.random.RandomState(self.random_state)  # Random generator\n",
    "        self.w_ = self.rgen.normal(loc=0.0, scale=0.01, size=m)  # Random weights\n",
    "        self.b_ = np.float_(0.)  # Bias initialized to zero\n",
    "        self.w_initialized = True\n",
    "    \n",
    "    def activation(self, X):\n",
    "        return X\n",
    "    \n",
    "    def net_input(self, X):\n",
    "        return np.dot(X,self.w_) + self.b_\n",
    "\n",
    "    def _update_weights(self, xi, target):\n",
    "        \"\"\"\n",
    "        Apply Adaline learning rule to update weights.\n",
    "\n",
    "        Parameters:\n",
    "        -----------\n",
    "        xi : array-like, shape = [n_features]\n",
    "            Training sample\n",
    "        target : float\n",
    "            True class label\n",
    "        \"\"\"\n",
    "\n",
    "        # Compute model output\n",
    "        output = self.activation(self.net_input(xi))\n",
    "        \n",
    "        # Calculate error (difference between true value and prediction)\n",
    "        error = (target - output)\n",
    "\n",
    "        # Update weights and bias using Adaline rule (gradient descent step)\n",
    "        self.w_ += self.eta * xi * error\n",
    "        self.b_ += self.eta * 2.0 * error\n",
    "\n",
    "        # Compute squared error loss\n",
    "        loss = error**2\n",
    "        return loss\n",
    "    \n",
    "    def predict(self, X):\n",
    "        return np.where(self.activation(self.net_input(X)) >= 0.0, 1, -1)\n",
    "    "
   ]
  },
  {
   "cell_type": "code",
   "execution_count": 41,
   "id": "cd8e66e3",
   "metadata": {},
   "outputs": [
    {
     "data": {
      "text/plain": [
       "<__main__.AdalineSGD at 0x2082fed6140>"
      ]
     },
     "execution_count": 41,
     "metadata": {},
     "output_type": "execute_result"
    }
   ],
   "source": [
    "y_train_std = np.where(y_train == 0, -1, 1)\n",
    "y_test_std = np.where(y_test == 0, -1, 1)\n",
    "\n",
    "adasgd = AdalineSGD(eta=0.06, epochs=50, shuffle=True)\n",
    "adasgd.fit(X_train_std, y_train_std)"
   ]
  },
  {
   "cell_type": "code",
   "execution_count": 42,
   "id": "adf6eb7f",
   "metadata": {},
   "outputs": [
    {
     "name": "stdout",
     "output_type": "stream",
     "text": [
      "Accuracy: 100.00%\n"
     ]
    }
   ],
   "source": [
    "from sklearn.metrics import accuracy_score\n",
    "\n",
    "y_predi = adasgd.predict(X_test_std)\n",
    "acc = accuracy_score(y_test_std, y_predi)\n",
    "\n",
    "print(f\"Accuracy: {acc*100:.2f}%\")"
   ]
  },
  {
   "cell_type": "code",
   "execution_count": 43,
   "id": "198e075a",
   "metadata": {},
   "outputs": [
    {
     "data": {
      "image/png": "[encoded data removed]",
      "text/plain": [
       "<Figure size 640x480 with 1 Axes>"
      ]
     },
     "metadata": {},
     "output_type": "display_data"
    }
   ],
   "source": [
    "import matplotlib.pyplot as plt\n",
    "plt.plot(adasgd.losses_)\n",
    "plt.xlabel('Epochs')\n",
    "plt.ylabel('Average Squared Error')\n",
    "plt.show()"
   ]
  }
 ],
 "metadata": {
  "kernelspec": {
   "display_name": "Python 3",
   "language": "python",
   "name": "python3"
  },
  "language_info": {
   "codemirror_mode": {
    "name": "ipython",
    "version": 3
   },
   "file_extension": ".py",
   "mimetype": "text/x-python",
   "name": "python",
   "nbconvert_exporter": "python",
   "pygments_lexer": "ipython3",
   "version": "3.10.9"
  }
 },
 "nbformat": 4,
 "nbformat_minor": 5
}
